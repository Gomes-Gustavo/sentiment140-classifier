{
 "cells": [
  {
   "cell_type": "markdown",
   "metadata": {},
   "source": [
    "# Exploratory Data Analysis (EDA)\n",
    "\n",
    "This notebook explores the Sentiment140 dataset to understand its structure and prepare it for classification.\n",
    "\n",
    "### Steps:\n",
    "- Load the dataset and inspect its structure\n",
    "- Adjust sentiment labels (`4 → 1`)\n",
    "- Analyze the distribution of sentiment labels\n",
    "- Identify missing values, duplicates, or imbalances\n",
    "- Perform initial text analysis (tweet length, common words)"
   ]
  },
  {
   "cell_type": "code",
   "execution_count": 1,
   "metadata": {},
   "outputs": [],
   "source": [
    "import pandas as pd\n",
    "import matplotlib.pyplot as plt\n",
    "import seaborn as sns\n",
    "from collections import Counter\n",
    "import re\n",
    "import nltk\n",
    "from nltk.corpus import stopwords"
   ]
  },
  {
   "cell_type": "markdown",
   "metadata": {},
   "source": [
    "## Loading the Dataset\n",
    "\n",
    "The dataset consists of 1.6 million tweets labeled as positive or negative.  \n",
    "It does not have column headers, so we need to assign appropriate names.\n"
   ]
  },
  {
   "cell_type": "code",
   "execution_count": 2,
   "metadata": {},
   "outputs": [],
   "source": [
    "columns = [\"sentiment\", \"id\", \"date\", \"flag\", \"user\", \"text\"]\n",
    "\n",
    "df = pd.read_csv(\"../data/training.1600000.processed.noemoticon.csv\", \n",
    "                 encoding=\"latin-1\", names=columns)\n"
   ]
  },
  {
   "cell_type": "markdown",
   "metadata": {},
   "source": [
    "## Dataset Overview\n",
    "\n",
    "The dataset contains six columns:\n",
    "- `sentiment` → Target variable (0 = Negative, 4 = Positive)\n",
    "- `id` → Tweet ID (not relevant)\n",
    "- `date` → Timestamp of the tweet\n",
    "- `flag` → Always \"NO_QUERY\" (not useful)\n",
    "- `user` → Username of the tweet author\n",
    "- `text` → Actual tweet content\n",
    "\n",
    "Only `sentiment` and `text` are relevant for classification.\n"
   ]
  },
  {
   "cell_type": "code",
   "execution_count": 3,
   "metadata": {},
   "outputs": [
    {
     "data": {
      "text/html": [
       "<div>\n",
       "<style scoped>\n",
       "    .dataframe tbody tr th:only-of-type {\n",
       "        vertical-align: middle;\n",
       "    }\n",
       "\n",
       "    .dataframe tbody tr th {\n",
       "        vertical-align: top;\n",
       "    }\n",
       "\n",
       "    .dataframe thead th {\n",
       "        text-align: right;\n",
       "    }\n",
       "</style>\n",
       "<table border=\"1\" class=\"dataframe\">\n",
       "  <thead>\n",
       "    <tr style=\"text-align: right;\">\n",
       "      <th></th>\n",
       "      <th>sentiment</th>\n",
       "      <th>id</th>\n",
       "      <th>date</th>\n",
       "      <th>flag</th>\n",
       "      <th>user</th>\n",
       "      <th>text</th>\n",
       "    </tr>\n",
       "  </thead>\n",
       "  <tbody>\n",
       "    <tr>\n",
       "      <th>0</th>\n",
       "      <td>0</td>\n",
       "      <td>1467810369</td>\n",
       "      <td>Mon Apr 06 22:19:45 PDT 2009</td>\n",
       "      <td>NO_QUERY</td>\n",
       "      <td>_TheSpecialOne_</td>\n",
       "      <td>@switchfoot http://twitpic.com/2y1zl - Awww, t...</td>\n",
       "    </tr>\n",
       "    <tr>\n",
       "      <th>1</th>\n",
       "      <td>0</td>\n",
       "      <td>1467810672</td>\n",
       "      <td>Mon Apr 06 22:19:49 PDT 2009</td>\n",
       "      <td>NO_QUERY</td>\n",
       "      <td>scotthamilton</td>\n",
       "      <td>is upset that he can't update his Facebook by ...</td>\n",
       "    </tr>\n",
       "    <tr>\n",
       "      <th>2</th>\n",
       "      <td>0</td>\n",
       "      <td>1467810917</td>\n",
       "      <td>Mon Apr 06 22:19:53 PDT 2009</td>\n",
       "      <td>NO_QUERY</td>\n",
       "      <td>mattycus</td>\n",
       "      <td>@Kenichan I dived many times for the ball. Man...</td>\n",
       "    </tr>\n",
       "    <tr>\n",
       "      <th>3</th>\n",
       "      <td>0</td>\n",
       "      <td>1467811184</td>\n",
       "      <td>Mon Apr 06 22:19:57 PDT 2009</td>\n",
       "      <td>NO_QUERY</td>\n",
       "      <td>ElleCTF</td>\n",
       "      <td>my whole body feels itchy and like its on fire</td>\n",
       "    </tr>\n",
       "    <tr>\n",
       "      <th>4</th>\n",
       "      <td>0</td>\n",
       "      <td>1467811193</td>\n",
       "      <td>Mon Apr 06 22:19:57 PDT 2009</td>\n",
       "      <td>NO_QUERY</td>\n",
       "      <td>Karoli</td>\n",
       "      <td>@nationwideclass no, it's not behaving at all....</td>\n",
       "    </tr>\n",
       "  </tbody>\n",
       "</table>\n",
       "</div>"
      ],
      "text/plain": [
       "   sentiment          id                          date      flag  \\\n",
       "0          0  1467810369  Mon Apr 06 22:19:45 PDT 2009  NO_QUERY   \n",
       "1          0  1467810672  Mon Apr 06 22:19:49 PDT 2009  NO_QUERY   \n",
       "2          0  1467810917  Mon Apr 06 22:19:53 PDT 2009  NO_QUERY   \n",
       "3          0  1467811184  Mon Apr 06 22:19:57 PDT 2009  NO_QUERY   \n",
       "4          0  1467811193  Mon Apr 06 22:19:57 PDT 2009  NO_QUERY   \n",
       "\n",
       "              user                                               text  \n",
       "0  _TheSpecialOne_  @switchfoot http://twitpic.com/2y1zl - Awww, t...  \n",
       "1    scotthamilton  is upset that he can't update his Facebook by ...  \n",
       "2         mattycus  @Kenichan I dived many times for the ball. Man...  \n",
       "3          ElleCTF    my whole body feels itchy and like its on fire   \n",
       "4           Karoli  @nationwideclass no, it's not behaving at all....  "
      ]
     },
     "execution_count": 3,
     "metadata": {},
     "output_type": "execute_result"
    }
   ],
   "source": [
    "df.head()"
   ]
  },
  {
   "cell_type": "code",
   "execution_count": 4,
   "metadata": {},
   "outputs": [
    {
     "data": {
      "text/plain": [
       "(1600000, 6)"
      ]
     },
     "execution_count": 4,
     "metadata": {},
     "output_type": "execute_result"
    }
   ],
   "source": [
    "df.shape"
   ]
  },
  {
   "cell_type": "markdown",
   "metadata": {},
   "source": [
    "## Adjusting Sentiment Labels\n",
    "\n",
    "The original dataset labels positive tweets as **4** and negative as **0**.  \n",
    "To simplify the classification task, we change **4 → 1**, so:\n",
    "- **0 = Negative**\n",
    "- **1 = Positive**"
   ]
  },
  {
   "cell_type": "code",
   "execution_count": 5,
   "metadata": {},
   "outputs": [],
   "source": [
    "df[\"sentiment\"] = df[\"sentiment\"].replace({4: 1})"
   ]
  },
  {
   "cell_type": "code",
   "execution_count": 6,
   "metadata": {},
   "outputs": [
    {
     "data": {
      "image/png": "[encoded data removed]",
      "text/plain": [
       "<Figure size 640x480 with 1 Axes>"
      ]
     },
     "metadata": {},
     "output_type": "display_data"
    }
   ],
   "source": [
    "sns.countplot(x=df[\"sentiment\"])\n",
    "plt.title(\"Tweet Sentiment Distribution\")\n",
    "plt.xticks(ticks=[0, 1], labels=[\"Negative\", \"Positive\"])\n",
    "plt.show()\n"
   ]
  },
  {
   "cell_type": "markdown",
   "metadata": {},
   "source": [
    "## Removing Unnecessary Columns\n",
    "\n",
    "The dataset contains columns that are not useful for sentiment classification:\n",
    "- **`id`** → A unique identifier for each tweet, not relevant for analysis.\n",
    "- **`date`** → The timestamp of the tweet, does not contribute to sentiment.\n",
    "- **`flag`** → Always `\"NO_QUERY\"`, contains no information.\n",
    "- **`user`** → The username of the tweet's author, not useful for classification.\n",
    "\n",
    "These columns are removed to keep only what is necessary:  \n",
    "- **`sentiment`** → The target variable (0 = Negative, 1 = Positive)  \n",
    "- **`text`** → The tweet content, which will be analyzed.\n",
    "\n"
   ]
  },
  {
   "cell_type": "code",
   "execution_count": 7,
   "metadata": {},
   "outputs": [
    {
     "data": {
      "text/plain": [
       "array(['NO_QUERY'], dtype=object)"
      ]
     },
     "execution_count": 7,
     "metadata": {},
     "output_type": "execute_result"
    }
   ],
   "source": [
    "df[\"flag\"].unique()"
   ]
  },
  {
   "cell_type": "code",
   "execution_count": 8,
   "metadata": {},
   "outputs": [],
   "source": [
    "df = df.drop(columns=[\"id\", \"date\", \"flag\", \"user\"])\n"
   ]
  },
  {
   "cell_type": "code",
   "execution_count": 9,
   "metadata": {},
   "outputs": [
    {
     "data": {
      "text/html": [
       "<div>\n",
       "<style scoped>\n",
       "    .dataframe tbody tr th:only-of-type {\n",
       "        vertical-align: middle;\n",
       "    }\n",
       "\n",
       "    .dataframe tbody tr th {\n",
       "        vertical-align: top;\n",
       "    }\n",
       "\n",
       "    .dataframe thead th {\n",
       "        text-align: right;\n",
       "    }\n",
       "</style>\n",
       "<table border=\"1\" class=\"dataframe\">\n",
       "  <thead>\n",
       "    <tr style=\"text-align: right;\">\n",
       "      <th></th>\n",
       "      <th>sentiment</th>\n",
       "      <th>text</th>\n",
       "    </tr>\n",
       "  </thead>\n",
       "  <tbody>\n",
       "    <tr>\n",
       "      <th>0</th>\n",
       "      <td>0</td>\n",
       "      <td>@switchfoot http://twitpic.com/2y1zl - Awww, t...</td>\n",
       "    </tr>\n",
       "    <tr>\n",
       "      <th>1</th>\n",
       "      <td>0</td>\n",
       "      <td>is upset that he can't update his Facebook by ...</td>\n",
       "    </tr>\n",
       "    <tr>\n",
       "      <th>2</th>\n",
       "      <td>0</td>\n",
       "      <td>@Kenichan I dived many times for the ball. Man...</td>\n",
       "    </tr>\n",
       "    <tr>\n",
       "      <th>3</th>\n",
       "      <td>0</td>\n",
       "      <td>my whole body feels itchy and like its on fire</td>\n",
       "    </tr>\n",
       "    <tr>\n",
       "      <th>4</th>\n",
       "      <td>0</td>\n",
       "      <td>@nationwideclass no, it's not behaving at all....</td>\n",
       "    </tr>\n",
       "  </tbody>\n",
       "</table>\n",
       "</div>"
      ],
      "text/plain": [
       "   sentiment                                               text\n",
       "0          0  @switchfoot http://twitpic.com/2y1zl - Awww, t...\n",
       "1          0  is upset that he can't update his Facebook by ...\n",
       "2          0  @Kenichan I dived many times for the ball. Man...\n",
       "3          0    my whole body feels itchy and like its on fire \n",
       "4          0  @nationwideclass no, it's not behaving at all...."
      ]
     },
     "execution_count": 9,
     "metadata": {},
     "output_type": "execute_result"
    }
   ],
   "source": [
    "df.head()"
   ]
  },
  {
   "cell_type": "markdown",
   "metadata": {},
   "source": [
    "## Checking for Missing Values and Duplicates\n",
    "\n",
    "Before analyzing the text, we check for missing values and duplicates.  "
   ]
  },
  {
   "cell_type": "code",
   "execution_count": 10,
   "metadata": {},
   "outputs": [
    {
     "data": {
      "text/plain": [
       "sentiment    0\n",
       "text         0\n",
       "dtype: int64"
      ]
     },
     "execution_count": 10,
     "metadata": {},
     "output_type": "execute_result"
    }
   ],
   "source": [
    "df.isnull().sum()"
   ]
  },
  {
   "cell_type": "code",
   "execution_count": 11,
   "metadata": {},
   "outputs": [
    {
     "data": {
      "text/plain": [
       "np.int64(18534)"
      ]
     },
     "execution_count": 11,
     "metadata": {},
     "output_type": "execute_result"
    }
   ],
   "source": [
    "df.duplicated(subset=[\"text\"]).sum()"
   ]
  },
  {
   "cell_type": "markdown",
   "metadata": {},
   "source": [
    "## Removing Duplicate Tweets\n",
    "\n",
    "The dataset contains **18,534 duplicate tweets**, wich we will remove.\n",
    "Duplicates can introduce bias into the model by overrepresenting certain opinions.  "
   ]
  },
  {
   "cell_type": "code",
   "execution_count": 12,
   "metadata": {},
   "outputs": [
    {
     "data": {
      "text/plain": [
       "(1581466, 2)"
      ]
     },
     "execution_count": 12,
     "metadata": {},
     "output_type": "execute_result"
    }
   ],
   "source": [
    "df = df.drop_duplicates(subset=[\"text\"])\n",
    "\n",
    "df.shape"
   ]
  },
  {
   "cell_type": "markdown",
   "metadata": {},
   "source": [
    "## Tweet Length Analysis\n",
    "\n",
    "Understanding tweet length distribution helps in preprocessing.  "
   ]
  },
  {
   "cell_type": "code",
   "execution_count": 13,
   "metadata": {},
   "outputs": [
    {
     "data": {
      "image/png": "[encoded data removed]",
      "text/plain": [
       "<Figure size 640x480 with 1 Axes>"
      ]
     },
     "metadata": {},
     "output_type": "display_data"
    }
   ],
   "source": [
    "df[\"tweet_length\"] = df[\"text\"].apply(len)\n",
    "\n",
    "sns.histplot(df[\"tweet_length\"], bins=50, kde=True)\n",
    "plt.title(\"Tweet Length Distribution\")\n",
    "plt.xlabel(\"Number of Characters\")\n",
    "plt.ylabel(\"Frequency\")\n",
    "plt.show()\n"
   ]
  },
  {
   "cell_type": "code",
   "execution_count": 14,
   "metadata": {},
   "outputs": [
    {
     "name": "stdout",
     "output_type": "stream",
     "text": [
      "Average tweet length: 74.48 characters\n"
     ]
    }
   ],
   "source": [
    "avg_length = df[\"tweet_length\"].mean()\n",
    "print(f\"Average tweet length: {avg_length:.2f} characters\")"
   ]
  },
  {
   "cell_type": "markdown",
   "metadata": {},
   "source": [
    "## Most Common Words\n",
    "\n",
    "Checking the most frequent words gives insights into the dataset's vocabulary, common stopwords should be removed."
   ]
  },
  {
   "cell_type": "code",
   "execution_count": 15,
   "metadata": {},
   "outputs": [
    {
     "name": "stderr",
     "output_type": "stream",
     "text": [
      "[nltk_data] Downloading package stopwords to\n",
      "[nltk_data]     C:\\Users\\gusta\\AppData\\Roaming\\nltk_data...\n",
      "[nltk_data]   Package stopwords is already up-to-date!\n"
     ]
    },
    {
     "data": {
      "text/plain": [
       "[('good', 88075),\n",
       " ('dont', 66754),\n",
       " ('love', 63061),\n",
       " ('cant', 62350),\n",
       " ('well', 44100),\n",
       " ('still', 42576),\n",
       " ('new', 41711),\n",
       " ('want', 41621),\n",
       " ('night', 41182),\n",
       " ('think', 40857),\n",
       " ('thanks', 39262),\n",
       " ('home', 38664),\n",
       " ('much', 36368),\n",
       " ('miss', 35642),\n",
       " ('need', 35193),\n",
       " ('last', 35050),\n",
       " ('hope', 32924),\n",
       " ('great', 32716),\n",
       " ('tomorrow', 32429),\n",
       " ('morning', 32140)]"
      ]
     },
     "execution_count": 15,
     "metadata": {},
     "output_type": "execute_result"
    }
   ],
   "source": [
    "nltk.download(\"stopwords\")\n",
    "stopwords = set(stopwords.words(\"english\"))\n",
    "stopwords.update([\"I\", \"Im\", \"im\", \"u\", \"day\", \"time\", \"today\", \"going\", \"get\", \n",
    "                  \"got\", \"go\", \"one\", \"see\", \"know\", \"really\", \"back\", \"like\", \n",
    "                  \"work\",  \"lol\", \"haha\", \"amp\", \"twitter\", \"thats\", \"ill\", \"oh\"])\n",
    "\n",
    "\n",
    "# Function to clean text with improved stopword removal\n",
    "def clean_text(text):\n",
    "    text = text.lower() \n",
    "    text = re.sub(r\"http\\S+|www\\S+|https\\S+\", \"\", text, flags=re.MULTILINE) \n",
    "    text = re.sub(r\"[^a-z\\s]\", \"\", text)  \n",
    "    words = text.split()\n",
    "    words = [word for word in words if word not in stopwords] \n",
    "    return \" \".join(words)\n",
    "\n",
    "\n",
    "df[\"clean_text\"] = df[\"text\"].apply(clean_text)\n",
    "\n",
    "\n",
    "# Count word frequency\n",
    "all_words = \" \".join(df[\"clean_text\"]).split()\n",
    "filtered_words = [word for word in all_words if word not in stopwords]\n",
    "\n",
    "\n",
    "word_freq = Counter(filtered_words)\n",
    "word_freq.most_common(20)\n"
   ]
  },
  {
   "cell_type": "code",
   "execution_count": 16,
   "metadata": {},
   "outputs": [
    {
     "name": "stdout",
     "output_type": "stream",
     "text": [
      "Most common words in positive tweets:\n",
      "[('good', 59740), ('love', 46547), ('thanks', 33652), ('new', 26409), ('great', 24786), ('well', 24408), ('night', 22043), ('dont', 21968), ('happy', 19710), ('think', 19239), ('morning', 19028), ('cant', 18942), ('hope', 18583), ('fun', 17912), ('much', 16669), ('nice', 16575), ('thank', 15351), ('home', 15120), ('tomorrow', 14121), ('awesome', 13997)]\n",
      "\n",
      "Most common words in negative tweets:\n",
      "[('dont', 44786), ('cant', 43408), ('miss', 30127), ('want', 29434), ('still', 28623), ('good', 28335), ('sad', 27038), ('home', 23544), ('last', 22097), ('wish', 21923), ('need', 21917), ('think', 21618), ('feel', 21522), ('bad', 21194), ('sorry', 20064), ('didnt', 19930), ('much', 19699), ('well', 19692), ('night', 19139), ('tomorrow', 18308)]\n"
     ]
    }
   ],
   "source": [
    "# Split dataset into positive and negative tweets\n",
    "positive_tweets = df[df[\"sentiment\"] == 1][\"clean_text\"]\n",
    "negative_tweets = df[df[\"sentiment\"] == 0][\"clean_text\"]\n",
    "\n",
    "# Count word frequencies separately\n",
    "positive_words = \" \".join(positive_tweets).split()\n",
    "negative_words = \" \".join(negative_tweets).split()\n",
    "\n",
    "positive_freq = Counter(positive_words).most_common(20)\n",
    "negative_freq = Counter(negative_words).most_common(20)\n",
    "\n",
    "print(\"Most common words in positive tweets:\")\n",
    "print(positive_freq)\n",
    "\n",
    "print(\"\\nMost common words in negative tweets:\")\n",
    "print(negative_freq)\n"
   ]
  }
 ],
 "metadata": {
  "kernelspec": {
   "display_name": "venv",
   "language": "python",
   "name": "python3"
  },
  "language_info": {
   "codemirror_mode": {
    "name": "ipython",
    "version": 3
   },
   "file_extension": ".py",
   "mimetype": "text/x-python",
   "name": "python",
   "nbconvert_exporter": "python",
   "pygments_lexer": "ipython3",
   "version": "3.10.7"
  }
 },
 "nbformat": 4,
 "nbformat_minor": 2
}
